{
 "cells": [
  {
   "cell_type": "code",
   "execution_count": 1,
   "metadata": {
    "collapsed": true
   },
   "outputs": [],
   "source": [
    "# In questo notebook vedremo come analizzare un dataset caricato in un DataFrame di Pandas"
   ]
  },
  {
   "cell_type": "code",
   "execution_count": 2,
   "metadata": {
    "collapsed": true
   },
   "outputs": [],
   "source": [
    "import pandas as pd"
   ]
  },
  {
   "cell_type": "code",
   "execution_count": 3,
   "metadata": {
    "collapsed": true
   },
   "outputs": [],
   "source": [
    "# Carichiamo il dataset relativo al campionato di calcio di Serie A 2015-16 in formato csv"
   ]
  },
  {
   "cell_type": "code",
   "execution_count": 4,
   "metadata": {
    "collapsed": false
   },
   "outputs": [],
   "source": [
    "df = pd.read_csv('campionato.csv')"
   ]
  },
  {
   "cell_type": "code",
   "execution_count": 5,
   "metadata": {
    "collapsed": false
   },
   "outputs": [
    {
     "data": {
      "text/html": [
       "<div>\n",
       "<table border=\"1\" class=\"dataframe\">\n",
       "  <thead>\n",
       "    <tr style=\"text-align: right;\">\n",
       "      <th></th>\n",
       "      <th>Squadra</th>\n",
       "      <th>Punti</th>\n",
       "      <th>Giocate</th>\n",
       "      <th>Vinte</th>\n",
       "      <th>Nulle</th>\n",
       "      <th>Perse</th>\n",
       "      <th>RetiFatte</th>\n",
       "      <th>RetiSubite</th>\n",
       "      <th>VinteCasa</th>\n",
       "      <th>NulleCasa</th>\n",
       "      <th>PerseCasa</th>\n",
       "      <th>RetiFatteCasa</th>\n",
       "      <th>RetiSubiteCasa</th>\n",
       "      <th>VinteFuori</th>\n",
       "      <th>NulleFuori</th>\n",
       "      <th>PerseFuori</th>\n",
       "      <th>RetiFatteCasa.1</th>\n",
       "      <th>RetiSubiteFuori</th>\n",
       "    </tr>\n",
       "  </thead>\n",
       "  <tbody>\n",
       "    <tr>\n",
       "      <th>0</th>\n",
       "      <td>Juventus</td>\n",
       "      <td>91</td>\n",
       "      <td>38</td>\n",
       "      <td>29</td>\n",
       "      <td>4</td>\n",
       "      <td>5</td>\n",
       "      <td>75</td>\n",
       "      <td>20</td>\n",
       "      <td>16</td>\n",
       "      <td>2</td>\n",
       "      <td>1</td>\n",
       "      <td>37</td>\n",
       "      <td>6</td>\n",
       "      <td>13</td>\n",
       "      <td>2</td>\n",
       "      <td>4</td>\n",
       "      <td>38</td>\n",
       "      <td>14</td>\n",
       "    </tr>\n",
       "    <tr>\n",
       "      <th>1</th>\n",
       "      <td>Napoli</td>\n",
       "      <td>82</td>\n",
       "      <td>38</td>\n",
       "      <td>25</td>\n",
       "      <td>7</td>\n",
       "      <td>6</td>\n",
       "      <td>80</td>\n",
       "      <td>32</td>\n",
       "      <td>16</td>\n",
       "      <td>3</td>\n",
       "      <td>0</td>\n",
       "      <td>49</td>\n",
       "      <td>12</td>\n",
       "      <td>9</td>\n",
       "      <td>4</td>\n",
       "      <td>6</td>\n",
       "      <td>31</td>\n",
       "      <td>20</td>\n",
       "    </tr>\n",
       "    <tr>\n",
       "      <th>2</th>\n",
       "      <td>Roma</td>\n",
       "      <td>80</td>\n",
       "      <td>38</td>\n",
       "      <td>23</td>\n",
       "      <td>11</td>\n",
       "      <td>4</td>\n",
       "      <td>83</td>\n",
       "      <td>41</td>\n",
       "      <td>13</td>\n",
       "      <td>5</td>\n",
       "      <td>1</td>\n",
       "      <td>44</td>\n",
       "      <td>17</td>\n",
       "      <td>10</td>\n",
       "      <td>6</td>\n",
       "      <td>3</td>\n",
       "      <td>39</td>\n",
       "      <td>24</td>\n",
       "    </tr>\n",
       "    <tr>\n",
       "      <th>3</th>\n",
       "      <td>Inter</td>\n",
       "      <td>67</td>\n",
       "      <td>38</td>\n",
       "      <td>20</td>\n",
       "      <td>7</td>\n",
       "      <td>11</td>\n",
       "      <td>50</td>\n",
       "      <td>38</td>\n",
       "      <td>13</td>\n",
       "      <td>2</td>\n",
       "      <td>4</td>\n",
       "      <td>29</td>\n",
       "      <td>15</td>\n",
       "      <td>7</td>\n",
       "      <td>5</td>\n",
       "      <td>7</td>\n",
       "      <td>21</td>\n",
       "      <td>23</td>\n",
       "    </tr>\n",
       "    <tr>\n",
       "      <th>4</th>\n",
       "      <td>Fiorentina</td>\n",
       "      <td>64</td>\n",
       "      <td>38</td>\n",
       "      <td>18</td>\n",
       "      <td>10</td>\n",
       "      <td>10</td>\n",
       "      <td>60</td>\n",
       "      <td>42</td>\n",
       "      <td>11</td>\n",
       "      <td>5</td>\n",
       "      <td>3</td>\n",
       "      <td>34</td>\n",
       "      <td>16</td>\n",
       "      <td>7</td>\n",
       "      <td>5</td>\n",
       "      <td>7</td>\n",
       "      <td>26</td>\n",
       "      <td>26</td>\n",
       "    </tr>\n",
       "  </tbody>\n",
       "</table>\n",
       "</div>"
      ],
      "text/plain": [
       "      Squadra  Punti  Giocate  Vinte  Nulle  Perse  RetiFatte  RetiSubite  \\\n",
       "0    Juventus     91       38     29      4      5         75          20   \n",
       "1      Napoli     82       38     25      7      6         80          32   \n",
       "2        Roma     80       38     23     11      4         83          41   \n",
       "3       Inter     67       38     20      7     11         50          38   \n",
       "4  Fiorentina     64       38     18     10     10         60          42   \n",
       "\n",
       "   VinteCasa  NulleCasa  PerseCasa  RetiFatteCasa  RetiSubiteCasa  VinteFuori  \\\n",
       "0         16          2          1             37               6          13   \n",
       "1         16          3          0             49              12           9   \n",
       "2         13          5          1             44              17          10   \n",
       "3         13          2          4             29              15           7   \n",
       "4         11          5          3             34              16           7   \n",
       "\n",
       "   NulleFuori  PerseFuori  RetiFatteCasa.1  RetiSubiteFuori  \n",
       "0           2           4               38               14  \n",
       "1           4           6               31               20  \n",
       "2           6           3               39               24  \n",
       "3           5           7               21               23  \n",
       "4           5           7               26               26  "
      ]
     },
     "execution_count": 5,
     "metadata": {},
     "output_type": "execute_result"
    }
   ],
   "source": [
    "# Possiamo visualizzare le prime 5 righe\n",
    "df.head()"
   ]
  },
  {
   "cell_type": "code",
   "execution_count": 6,
   "metadata": {
    "collapsed": false
   },
   "outputs": [
    {
     "name": "stdout",
     "output_type": "stream",
     "text": [
      "       Squadra  Punti  Giocate  Vinte  Nulle  Perse  RetiFatte  RetiSubite  \\\n",
      "0     Juventus     91       38     29      4      5         75          20   \n",
      "1       Napoli     82       38     25      7      6         80          32   \n",
      "2         Roma     80       38     23     11      4         83          41   \n",
      "3        Inter     67       38     20      7     11         50          38   \n",
      "4   Fiorentina     64       38     18     10     10         60          42   \n",
      "5     Sassuolo     61       38     16     13      9         49          40   \n",
      "6        Milan     57       38     15     12     11         49          43   \n",
      "7        Lazio     54       38     15      9     14         52          52   \n",
      "8       Chievo     50       38     13     11     14         43          45   \n",
      "9        Genoa     46       38     13      7     18         45          48   \n",
      "10      Empoli     46       38     12     10     16         40          49   \n",
      "11      Torino     45       38     12      9     17         52          55   \n",
      "12    Atalanta     45       38     11     12     15         41          47   \n",
      "13     Bologna     42       38     11      9     18         33          45   \n",
      "14   Sampdoria     40       38     10     10     18         48          61   \n",
      "15     Palermo     39       38     10      9     19         38          65   \n",
      "16     Udinese     39       38     10      9     19         35          60   \n",
      "17       Carpi     38       38      9     11     18         37          57   \n",
      "18   Frosinone     31       38      8      7     23         35          76   \n",
      "19      Verona     28       38      5     13     20         34          63   \n",
      "\n",
      "    VinteCasa  NulleCasa  PerseCasa  RetiFatteCasa  RetiSubiteCasa  \\\n",
      "0          16          2          1             37               6   \n",
      "1          16          3          0             49              12   \n",
      "2          13          5          1             44              17   \n",
      "3          13          2          4             29              15   \n",
      "4          11          5          3             34              16   \n",
      "5           8          8          3             25              20   \n",
      "6           9          6          4             28              22   \n",
      "7          10          3          6             32              23   \n",
      "8           7          8          4             25              18   \n",
      "9          10          3          6             29              19   \n",
      "10          7          6          6             22              20   \n",
      "11          6          6          7             25              25   \n",
      "12          8          6          5             27              21   \n",
      "13          5          5          9             20              21   \n",
      "14          8          4          7             29              25   \n",
      "15          6          4          9             24              30   \n",
      "16          6          4          9             18              28   \n",
      "17          6          5          8             23              26   \n",
      "18          6          4          9             18              26   \n",
      "19          4          6          9             21              30   \n",
      "\n",
      "    VinteFuori  NulleFuori  PerseFuori  RetiFatteCasa.1  RetiSubiteFuori  \n",
      "0           13           2           4               38               14  \n",
      "1            9           4           6               31               20  \n",
      "2           10           6           3               39               24  \n",
      "3            7           5           7               21               23  \n",
      "4            7           5           7               26               26  \n",
      "5            8           5           6               24               20  \n",
      "6            6           6           7               21               21  \n",
      "7            5           6           8               20               29  \n",
      "8            6           3          10               18               27  \n",
      "9            3           4          12               16               29  \n",
      "10           5           4          10               18               29  \n",
      "11           6           3          10               27               30  \n",
      "12           3           6          10               14               26  \n",
      "13           6           4           9               13               24  \n",
      "14           2           6          11               19               36  \n",
      "15           4           5          10               14               35  \n",
      "16           4           5          10               17               32  \n",
      "17           3           6          10               14               31  \n",
      "18           2           3          14               17               50  \n",
      "19           1           7          11               13               33  \n"
     ]
    }
   ],
   "source": [
    "# oppure l'intero dataframe\n",
    "print(df)"
   ]
  },
  {
   "cell_type": "code",
   "execution_count": 7,
   "metadata": {
    "collapsed": true
   },
   "outputs": [],
   "source": [
    "# DIMENSIONI DATAFRAME\n",
    "# In primo luogo determiniamo le dimensioni del dataframe contenente i dati"
   ]
  },
  {
   "cell_type": "code",
   "execution_count": 8,
   "metadata": {
    "collapsed": false
   },
   "outputs": [
    {
     "data": {
      "text/plain": [
       "(20, 18)"
      ]
     },
     "execution_count": 8,
     "metadata": {},
     "output_type": "execute_result"
    }
   ],
   "source": [
    "df.shape"
   ]
  },
  {
   "cell_type": "code",
   "execution_count": 9,
   "metadata": {
    "collapsed": true
   },
   "outputs": [],
   "source": [
    "# Abbiamo 20 righe (corrispondenti alle 20 squadre) e 18 colonne"
   ]
  },
  {
   "cell_type": "code",
   "execution_count": 10,
   "metadata": {
    "collapsed": true
   },
   "outputs": [],
   "source": [
    "# STATISTICHE GENERALI\n",
    "# Per ciascuna colonna sono riportati il numero di valori (count), la media (mean), la deviazione standard (std),\n",
    "# min (minimo), max (massimo), i percentili (25%-50%-75%) "
   ]
  },
  {
   "cell_type": "code",
   "execution_count": 11,
   "metadata": {
    "collapsed": false
   },
   "outputs": [
    {
     "data": {
      "text/html": [
       "<div>\n",
       "<table border=\"1\" class=\"dataframe\">\n",
       "  <thead>\n",
       "    <tr style=\"text-align: right;\">\n",
       "      <th></th>\n",
       "      <th>Punti</th>\n",
       "      <th>Giocate</th>\n",
       "      <th>Vinte</th>\n",
       "      <th>Nulle</th>\n",
       "      <th>Perse</th>\n",
       "      <th>RetiFatte</th>\n",
       "      <th>RetiSubite</th>\n",
       "      <th>VinteCasa</th>\n",
       "      <th>NulleCasa</th>\n",
       "      <th>PerseCasa</th>\n",
       "      <th>RetiFatteCasa</th>\n",
       "      <th>RetiSubiteCasa</th>\n",
       "      <th>VinteFuori</th>\n",
       "      <th>NulleFuori</th>\n",
       "      <th>PerseFuori</th>\n",
       "      <th>RetiFatteCasa.1</th>\n",
       "      <th>RetiSubiteFuori</th>\n",
       "    </tr>\n",
       "  </thead>\n",
       "  <tbody>\n",
       "    <tr>\n",
       "      <th>count</th>\n",
       "      <td>20.000000</td>\n",
       "      <td>20.0</td>\n",
       "      <td>20.000000</td>\n",
       "      <td>20.0000</td>\n",
       "      <td>20.000000</td>\n",
       "      <td>20.000000</td>\n",
       "      <td>20.000000</td>\n",
       "      <td>20.000000</td>\n",
       "      <td>20.000000</td>\n",
       "      <td>20.000000</td>\n",
       "      <td>20.000000</td>\n",
       "      <td>20.000000</td>\n",
       "      <td>20.000000</td>\n",
       "      <td>20.000000</td>\n",
       "      <td>20.000000</td>\n",
       "      <td>20.000000</td>\n",
       "      <td>20.000000</td>\n",
       "    </tr>\n",
       "    <tr>\n",
       "      <th>mean</th>\n",
       "      <td>52.250000</td>\n",
       "      <td>38.0</td>\n",
       "      <td>14.250000</td>\n",
       "      <td>9.5000</td>\n",
       "      <td>14.250000</td>\n",
       "      <td>48.950000</td>\n",
       "      <td>48.950000</td>\n",
       "      <td>8.750000</td>\n",
       "      <td>4.750000</td>\n",
       "      <td>5.500000</td>\n",
       "      <td>27.950000</td>\n",
       "      <td>21.000000</td>\n",
       "      <td>5.500000</td>\n",
       "      <td>4.750000</td>\n",
       "      <td>8.750000</td>\n",
       "      <td>21.000000</td>\n",
       "      <td>27.950000</td>\n",
       "    </tr>\n",
       "    <tr>\n",
       "      <th>std</th>\n",
       "      <td>17.247044</td>\n",
       "      <td>0.0</td>\n",
       "      <td>6.077352</td>\n",
       "      <td>2.3056</td>\n",
       "      <td>5.369259</td>\n",
       "      <td>14.989382</td>\n",
       "      <td>12.717477</td>\n",
       "      <td>3.492473</td>\n",
       "      <td>1.712954</td>\n",
       "      <td>2.928984</td>\n",
       "      <td>8.114153</td>\n",
       "      <td>6.052403</td>\n",
       "      <td>2.982405</td>\n",
       "      <td>1.332785</td>\n",
       "      <td>2.712059</td>\n",
       "      <td>7.739169</td>\n",
       "      <td>7.584437</td>\n",
       "    </tr>\n",
       "    <tr>\n",
       "      <th>min</th>\n",
       "      <td>28.000000</td>\n",
       "      <td>38.0</td>\n",
       "      <td>5.000000</td>\n",
       "      <td>4.0000</td>\n",
       "      <td>4.000000</td>\n",
       "      <td>33.000000</td>\n",
       "      <td>20.000000</td>\n",
       "      <td>4.000000</td>\n",
       "      <td>2.000000</td>\n",
       "      <td>0.000000</td>\n",
       "      <td>18.000000</td>\n",
       "      <td>6.000000</td>\n",
       "      <td>1.000000</td>\n",
       "      <td>2.000000</td>\n",
       "      <td>3.000000</td>\n",
       "      <td>13.000000</td>\n",
       "      <td>14.000000</td>\n",
       "    </tr>\n",
       "    <tr>\n",
       "      <th>25%</th>\n",
       "      <td>39.750000</td>\n",
       "      <td>38.0</td>\n",
       "      <td>10.000000</td>\n",
       "      <td>8.5000</td>\n",
       "      <td>10.750000</td>\n",
       "      <td>37.750000</td>\n",
       "      <td>41.750000</td>\n",
       "      <td>6.000000</td>\n",
       "      <td>3.750000</td>\n",
       "      <td>3.750000</td>\n",
       "      <td>22.750000</td>\n",
       "      <td>17.750000</td>\n",
       "      <td>3.000000</td>\n",
       "      <td>4.000000</td>\n",
       "      <td>7.000000</td>\n",
       "      <td>15.500000</td>\n",
       "      <td>23.750000</td>\n",
       "    </tr>\n",
       "    <tr>\n",
       "      <th>50%</th>\n",
       "      <td>46.000000</td>\n",
       "      <td>38.0</td>\n",
       "      <td>12.500000</td>\n",
       "      <td>9.5000</td>\n",
       "      <td>15.500000</td>\n",
       "      <td>46.500000</td>\n",
       "      <td>47.500000</td>\n",
       "      <td>8.000000</td>\n",
       "      <td>5.000000</td>\n",
       "      <td>6.000000</td>\n",
       "      <td>26.000000</td>\n",
       "      <td>21.000000</td>\n",
       "      <td>5.500000</td>\n",
       "      <td>5.000000</td>\n",
       "      <td>10.000000</td>\n",
       "      <td>18.500000</td>\n",
       "      <td>28.000000</td>\n",
       "    </tr>\n",
       "    <tr>\n",
       "      <th>75%</th>\n",
       "      <td>61.750000</td>\n",
       "      <td>38.0</td>\n",
       "      <td>16.500000</td>\n",
       "      <td>11.0000</td>\n",
       "      <td>18.000000</td>\n",
       "      <td>52.000000</td>\n",
       "      <td>57.750000</td>\n",
       "      <td>10.250000</td>\n",
       "      <td>6.000000</td>\n",
       "      <td>8.250000</td>\n",
       "      <td>29.750000</td>\n",
       "      <td>25.250000</td>\n",
       "      <td>7.000000</td>\n",
       "      <td>6.000000</td>\n",
       "      <td>10.000000</td>\n",
       "      <td>24.500000</td>\n",
       "      <td>31.250000</td>\n",
       "    </tr>\n",
       "    <tr>\n",
       "      <th>max</th>\n",
       "      <td>91.000000</td>\n",
       "      <td>38.0</td>\n",
       "      <td>29.000000</td>\n",
       "      <td>13.0000</td>\n",
       "      <td>23.000000</td>\n",
       "      <td>83.000000</td>\n",
       "      <td>76.000000</td>\n",
       "      <td>16.000000</td>\n",
       "      <td>8.000000</td>\n",
       "      <td>9.000000</td>\n",
       "      <td>49.000000</td>\n",
       "      <td>30.000000</td>\n",
       "      <td>13.000000</td>\n",
       "      <td>7.000000</td>\n",
       "      <td>14.000000</td>\n",
       "      <td>39.000000</td>\n",
       "      <td>50.000000</td>\n",
       "    </tr>\n",
       "  </tbody>\n",
       "</table>\n",
       "</div>"
      ],
      "text/plain": [
       "           Punti  Giocate      Vinte    Nulle      Perse  RetiFatte  \\\n",
       "count  20.000000     20.0  20.000000  20.0000  20.000000  20.000000   \n",
       "mean   52.250000     38.0  14.250000   9.5000  14.250000  48.950000   \n",
       "std    17.247044      0.0   6.077352   2.3056   5.369259  14.989382   \n",
       "min    28.000000     38.0   5.000000   4.0000   4.000000  33.000000   \n",
       "25%    39.750000     38.0  10.000000   8.5000  10.750000  37.750000   \n",
       "50%    46.000000     38.0  12.500000   9.5000  15.500000  46.500000   \n",
       "75%    61.750000     38.0  16.500000  11.0000  18.000000  52.000000   \n",
       "max    91.000000     38.0  29.000000  13.0000  23.000000  83.000000   \n",
       "\n",
       "       RetiSubite  VinteCasa  NulleCasa  PerseCasa  RetiFatteCasa  \\\n",
       "count   20.000000  20.000000  20.000000  20.000000      20.000000   \n",
       "mean    48.950000   8.750000   4.750000   5.500000      27.950000   \n",
       "std     12.717477   3.492473   1.712954   2.928984       8.114153   \n",
       "min     20.000000   4.000000   2.000000   0.000000      18.000000   \n",
       "25%     41.750000   6.000000   3.750000   3.750000      22.750000   \n",
       "50%     47.500000   8.000000   5.000000   6.000000      26.000000   \n",
       "75%     57.750000  10.250000   6.000000   8.250000      29.750000   \n",
       "max     76.000000  16.000000   8.000000   9.000000      49.000000   \n",
       "\n",
       "       RetiSubiteCasa  VinteFuori  NulleFuori  PerseFuori  RetiFatteCasa.1  \\\n",
       "count       20.000000   20.000000   20.000000   20.000000        20.000000   \n",
       "mean        21.000000    5.500000    4.750000    8.750000        21.000000   \n",
       "std          6.052403    2.982405    1.332785    2.712059         7.739169   \n",
       "min          6.000000    1.000000    2.000000    3.000000        13.000000   \n",
       "25%         17.750000    3.000000    4.000000    7.000000        15.500000   \n",
       "50%         21.000000    5.500000    5.000000   10.000000        18.500000   \n",
       "75%         25.250000    7.000000    6.000000   10.000000        24.500000   \n",
       "max         30.000000   13.000000    7.000000   14.000000        39.000000   \n",
       "\n",
       "       RetiSubiteFuori  \n",
       "count        20.000000  \n",
       "mean         27.950000  \n",
       "std           7.584437  \n",
       "min          14.000000  \n",
       "25%          23.750000  \n",
       "50%          28.000000  \n",
       "75%          31.250000  \n",
       "max          50.000000  "
      ]
     },
     "execution_count": 11,
     "metadata": {},
     "output_type": "execute_result"
    }
   ],
   "source": [
    "df.describe()"
   ]
  },
  {
   "cell_type": "code",
   "execution_count": 12,
   "metadata": {
    "collapsed": true
   },
   "outputs": [],
   "source": [
    "# TIPI DELLE COLONNE"
   ]
  },
  {
   "cell_type": "code",
   "execution_count": 13,
   "metadata": {
    "collapsed": false
   },
   "outputs": [
    {
     "data": {
      "text/plain": [
       "Squadra            object\n",
       "Punti               int64\n",
       "Giocate             int64\n",
       "Vinte               int64\n",
       "Nulle               int64\n",
       "Perse               int64\n",
       "RetiFatte           int64\n",
       "RetiSubite          int64\n",
       "VinteCasa           int64\n",
       "NulleCasa           int64\n",
       "PerseCasa           int64\n",
       "RetiFatteCasa       int64\n",
       "RetiSubiteCasa      int64\n",
       "VinteFuori          int64\n",
       "NulleFuori          int64\n",
       "PerseFuori          int64\n",
       "RetiFatteCasa.1     int64\n",
       "RetiSubiteFuori     int64\n",
       "dtype: object"
      ]
     },
     "execution_count": 13,
     "metadata": {},
     "output_type": "execute_result"
    }
   ],
   "source": [
    "df.dtypes"
   ]
  },
  {
   "cell_type": "code",
   "execution_count": 14,
   "metadata": {
    "collapsed": true
   },
   "outputs": [],
   "source": [
    "# STATISTICHE DI UNA COLONNA\n",
    "# Vediamo come analizzare in dettaglio una singola colonna. "
   ]
  },
  {
   "cell_type": "code",
   "execution_count": 15,
   "metadata": {
    "collapsed": false
   },
   "outputs": [
    {
     "name": "stdout",
     "output_type": "stream",
     "text": [
      "Il minimo è 28\n"
     ]
    }
   ],
   "source": [
    "print(\"Il minimo è\", df['Punti'].min())"
   ]
  },
  {
   "cell_type": "code",
   "execution_count": 16,
   "metadata": {
    "collapsed": false
   },
   "outputs": [
    {
     "name": "stdout",
     "output_type": "stream",
     "text": [
      "Il massimo è 91\n"
     ]
    }
   ],
   "source": [
    "print(\"Il massimo è\", df['Punti'].max())"
   ]
  },
  {
   "cell_type": "code",
   "execution_count": 17,
   "metadata": {
    "collapsed": false
   },
   "outputs": [
    {
     "name": "stdout",
     "output_type": "stream",
     "text": [
      "La media è 52.25\n"
     ]
    }
   ],
   "source": [
    "print(\"La media è\", df['Punti'].mean())"
   ]
  },
  {
   "cell_type": "code",
   "execution_count": 18,
   "metadata": {
    "collapsed": false
   },
   "outputs": [
    {
     "name": "stdout",
     "output_type": "stream",
     "text": [
      "La somma è 1045\n"
     ]
    }
   ],
   "source": [
    "print(\"La somma è\", df['Punti'].sum())"
   ]
  },
  {
   "cell_type": "code",
   "execution_count": 19,
   "metadata": {
    "collapsed": false
   },
   "outputs": [
    {
     "data": {
      "text/plain": [
       "46    2\n",
       "45    2\n",
       "39    2\n",
       "67    1\n",
       "38    1\n",
       "40    1\n",
       "50    1\n",
       "42    1\n",
       "31    1\n",
       "61    1\n",
       "80    1\n",
       "82    1\n",
       "54    1\n",
       "57    1\n",
       "91    1\n",
       "28    1\n",
       "64    1\n",
       "Name: Punti, dtype: int64"
      ]
     },
     "execution_count": 19,
     "metadata": {},
     "output_type": "execute_result"
    }
   ],
   "source": [
    "# Visualizziamo i diversi valori presenti e la loro frequenza\n",
    "df['Punti'].value_counts()"
   ]
  },
  {
   "cell_type": "code",
   "execution_count": 20,
   "metadata": {
    "collapsed": false
   },
   "outputs": [
    {
     "data": {
      "text/plain": [
       "array([91, 82, 80, 67, 64, 61, 57, 54, 50, 46, 45, 42, 40, 39, 38, 31, 28], dtype=int64)"
      ]
     },
     "execution_count": 20,
     "metadata": {},
     "output_type": "execute_result"
    }
   ],
   "source": [
    "# Visualizziamo l'insieme dei valori presenti (non sono ammesse più istanze)\n",
    "df['Punti'].unique()"
   ]
  },
  {
   "cell_type": "code",
   "execution_count": 21,
   "metadata": {
    "collapsed": true
   },
   "outputs": [],
   "source": [
    "# STATISTICA RIFERITA A TUTTE LE COLONNE\n",
    "# Supponiamo di voler visualizzare la media di ciascuna colonna "
   ]
  },
  {
   "cell_type": "code",
   "execution_count": 22,
   "metadata": {
    "collapsed": false
   },
   "outputs": [
    {
     "data": {
      "text/plain": [
       "Punti              52.25\n",
       "Giocate            38.00\n",
       "Vinte              14.25\n",
       "Nulle               9.50\n",
       "Perse              14.25\n",
       "RetiFatte          48.95\n",
       "RetiSubite         48.95\n",
       "VinteCasa           8.75\n",
       "NulleCasa           4.75\n",
       "PerseCasa           5.50\n",
       "RetiFatteCasa      27.95\n",
       "RetiSubiteCasa     21.00\n",
       "VinteFuori          5.50\n",
       "NulleFuori          4.75\n",
       "PerseFuori          8.75\n",
       "RetiFatteCasa.1    21.00\n",
       "RetiSubiteFuori    27.95\n",
       "dtype: float64"
      ]
     },
     "execution_count": 22,
     "metadata": {},
     "output_type": "execute_result"
    }
   ],
   "source": [
    "df.mean(axis=0)"
   ]
  },
  {
   "cell_type": "code",
   "execution_count": 23,
   "metadata": {
    "collapsed": true
   },
   "outputs": [],
   "source": [
    "# Sostituiamo la media con il massimo"
   ]
  },
  {
   "cell_type": "code",
   "execution_count": 24,
   "metadata": {
    "collapsed": false
   },
   "outputs": [
    {
     "data": {
      "text/plain": [
       "Squadra            Verona\n",
       "Punti                  91\n",
       "Giocate                38\n",
       "Vinte                  29\n",
       "Nulle                  13\n",
       "Perse                  23\n",
       "RetiFatte              83\n",
       "RetiSubite             76\n",
       "VinteCasa              16\n",
       "NulleCasa               8\n",
       "PerseCasa               9\n",
       "RetiFatteCasa          49\n",
       "RetiSubiteCasa         30\n",
       "VinteFuori             13\n",
       "NulleFuori              7\n",
       "PerseFuori             14\n",
       "RetiFatteCasa.1        39\n",
       "RetiSubiteFuori        50\n",
       "dtype: object"
      ]
     },
     "execution_count": 24,
     "metadata": {},
     "output_type": "execute_result"
    }
   ],
   "source": [
    "df.max(axis=0)"
   ]
  },
  {
   "cell_type": "code",
   "execution_count": 25,
   "metadata": {
    "collapsed": true
   },
   "outputs": [],
   "source": [
    "# STATISTICA RIFERITA A TUTTE LE RIGHE\n",
    "# Le stesse operazioni possono essere applicate a tutti gli elementi di una riga (anche se nel nostro caso non hanno\n",
    "# molto senso) "
   ]
  },
  {
   "cell_type": "code",
   "execution_count": 26,
   "metadata": {
    "collapsed": false
   },
   "outputs": [
    {
     "data": {
      "text/plain": [
       "0     23.235294\n",
       "1     24.705882\n",
       "2     26.000000\n",
       "3     21.000000\n",
       "4     22.470588\n",
       "5     20.764706\n",
       "6     20.882353\n",
       "7     22.117647\n",
       "8     20.000000\n",
       "9     20.352941\n",
       "10    19.882353\n",
       "11    21.941176\n",
       "12    19.705882\n",
       "13    18.352941\n",
       "14    21.882353\n",
       "15    21.117647\n",
       "16    20.176471\n",
       "17    20.000000\n",
       "18    21.588235\n",
       "19    19.764706\n",
       "dtype: float64"
      ]
     },
     "execution_count": 26,
     "metadata": {},
     "output_type": "execute_result"
    }
   ],
   "source": [
    "df.mean(axis=1)"
   ]
  },
  {
   "cell_type": "code",
   "execution_count": null,
   "metadata": {
    "collapsed": true
   },
   "outputs": [],
   "source": []
  }
 ],
 "metadata": {
  "anaconda-cloud": {},
  "kernelspec": {
   "display_name": "Python [Root]",
   "language": "python",
   "name": "Python [Root]"
  },
  "language_info": {
   "codemirror_mode": {
    "name": "ipython",
    "version": 3
   },
   "file_extension": ".py",
   "mimetype": "text/x-python",
   "name": "python",
   "nbconvert_exporter": "python",
   "pygments_lexer": "ipython3",
   "version": "3.5.2"
  }
 },
 "nbformat": 4,
 "nbformat_minor": 0
}
